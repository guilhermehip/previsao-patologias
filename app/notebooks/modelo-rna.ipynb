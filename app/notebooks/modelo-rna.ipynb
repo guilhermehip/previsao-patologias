{
 "cells": [
  {
   "cell_type": "code",
   "execution_count": 1,
   "metadata": {},
   "outputs": [],
   "source": [
    "import pandas as pd\n",
    "import psycopg2\n",
    "from sklearn.model_selection import train_test_split\n",
    "from sklearn.neural_network import MLPClassifier\n",
    "from sklearn.metrics import accuracy_score, classification_report, confusion_matrix\n",
    "from sklearn.model_selection import StratifiedKFold, cross_val_score\n",
    "from sklearn.metrics import f1_score\n",
    "import matplotlib.pyplot as plt\n",
    "import numpy as np"
   ]
  },
  {
   "cell_type": "code",
   "execution_count": 2,
   "metadata": {},
   "outputs": [
    {
     "ename": "KeyboardInterrupt",
     "evalue": "",
     "output_type": "error",
     "traceback": [
      "\u001b[0;31m---------------------------------------------------------------------------\u001b[0m",
      "\u001b[0;31mKeyboardInterrupt\u001b[0m                         Traceback (most recent call last)",
      "Cell \u001b[0;32mIn[2], line 2\u001b[0m\n\u001b[1;32m      1\u001b[0m \u001b[38;5;66;03m# Carregando o Dataset\u001b[39;00m\n\u001b[0;32m----> 2\u001b[0m df \u001b[38;5;241m=\u001b[39m \u001b[43mpd\u001b[49m\u001b[38;5;241;43m.\u001b[39;49m\u001b[43mread_pickle\u001b[49m\u001b[43m(\u001b[49m\u001b[38;5;124;43m'\u001b[39;49m\u001b[38;5;124;43m../storage/pickle/dataframe_amostra_no_dummies0.15.pkl\u001b[39;49m\u001b[38;5;124;43m'\u001b[39;49m\u001b[43m)\u001b[49m\n\u001b[1;32m      3\u001b[0m df \u001b[38;5;241m=\u001b[39m df\u001b[38;5;241m.\u001b[39mdrop_duplicates()\n\u001b[1;32m      4\u001b[0m \u001b[38;5;66;03m# Tratando dado de idade\u001b[39;00m\n",
      "File \u001b[0;32m~/.pyenv/versions/3.10.13/lib/python3.10/site-packages/pandas/io/pickle.py:206\u001b[0m, in \u001b[0;36mread_pickle\u001b[0;34m(filepath_or_buffer, compression, storage_options)\u001b[0m\n\u001b[1;32m    203\u001b[0m     \u001b[38;5;28;01mwith\u001b[39;00m warnings\u001b[38;5;241m.\u001b[39mcatch_warnings(record\u001b[38;5;241m=\u001b[39m\u001b[38;5;28;01mTrue\u001b[39;00m):\n\u001b[1;32m    204\u001b[0m         \u001b[38;5;66;03m# We want to silence any warnings about, e.g. moved modules.\u001b[39;00m\n\u001b[1;32m    205\u001b[0m         warnings\u001b[38;5;241m.\u001b[39msimplefilter(\u001b[38;5;124m\"\u001b[39m\u001b[38;5;124mignore\u001b[39m\u001b[38;5;124m\"\u001b[39m, \u001b[38;5;167;01mWarning\u001b[39;00m)\n\u001b[0;32m--> 206\u001b[0m         \u001b[38;5;28;01mreturn\u001b[39;00m \u001b[43mpickle\u001b[49m\u001b[38;5;241;43m.\u001b[39;49m\u001b[43mload\u001b[49m\u001b[43m(\u001b[49m\u001b[43mhandles\u001b[49m\u001b[38;5;241;43m.\u001b[39;49m\u001b[43mhandle\u001b[49m\u001b[43m)\u001b[49m\n\u001b[1;32m    207\u001b[0m \u001b[38;5;28;01mexcept\u001b[39;00m excs_to_catch:\n\u001b[1;32m    208\u001b[0m     \u001b[38;5;66;03m# e.g.\u001b[39;00m\n\u001b[1;32m    209\u001b[0m     \u001b[38;5;66;03m#  \"No module named 'pandas.core.sparse.series'\"\u001b[39;00m\n\u001b[1;32m    210\u001b[0m     \u001b[38;5;66;03m#  \"Can't get attribute '__nat_unpickle' on <module 'pandas._libs.tslib\"\u001b[39;00m\n\u001b[1;32m    211\u001b[0m     \u001b[38;5;28;01mreturn\u001b[39;00m pc\u001b[38;5;241m.\u001b[39mload(handles\u001b[38;5;241m.\u001b[39mhandle, encoding\u001b[38;5;241m=\u001b[39m\u001b[38;5;28;01mNone\u001b[39;00m)\n",
      "File \u001b[0;32minternals.pyx:634\u001b[0m, in \u001b[0;36mpandas._libs.internals._unpickle_block\u001b[0;34m()\u001b[0m\n",
      "File \u001b[0;32m~/.pyenv/versions/3.10.13/lib/python3.10/site-packages/pandas/core/internals/blocks.py:2317\u001b[0m, in \u001b[0;36mmaybe_coerce_values\u001b[0;34m(values)\u001b[0m\n\u001b[1;32m   2310\u001b[0m     \u001b[38;5;18m__slots__\u001b[39m \u001b[38;5;241m=\u001b[39m ()\n\u001b[1;32m   2313\u001b[0m \u001b[38;5;66;03m# -----------------------------------------------------------------\u001b[39;00m\n\u001b[1;32m   2314\u001b[0m \u001b[38;5;66;03m# Constructor Helpers\u001b[39;00m\n\u001b[0;32m-> 2317\u001b[0m \u001b[38;5;28;01mdef\u001b[39;00m \u001b[38;5;21mmaybe_coerce_values\u001b[39m(values: ArrayLike) \u001b[38;5;241m-\u001b[39m\u001b[38;5;241m>\u001b[39m ArrayLike:\n\u001b[1;32m   2318\u001b[0m \u001b[38;5;250m    \u001b[39m\u001b[38;5;124;03m\"\"\"\u001b[39;00m\n\u001b[1;32m   2319\u001b[0m \u001b[38;5;124;03m    Input validation for values passed to __init__. Ensure that\u001b[39;00m\n\u001b[1;32m   2320\u001b[0m \u001b[38;5;124;03m    any datetime64/timedelta64 dtypes are in nanoseconds.  Ensure\u001b[39;00m\n\u001b[0;32m   (...)\u001b[0m\n\u001b[1;32m   2329\u001b[0m \u001b[38;5;124;03m    values : np.ndarray or ExtensionArray\u001b[39;00m\n\u001b[1;32m   2330\u001b[0m \u001b[38;5;124;03m    \"\"\"\u001b[39;00m\n\u001b[1;32m   2331\u001b[0m     \u001b[38;5;66;03m# Caller is responsible for ensuring NumpyExtensionArray is already extracted.\u001b[39;00m\n",
      "\u001b[0;31mKeyboardInterrupt\u001b[0m: "
     ]
    }
   ],
   "source": [
    "# Carregando o Dataset\n",
    "df = pd.read_pickle('../storage/pickle/dataframe_amostra_no_dummies0.15.pkl')\n",
    "df = df.drop_duplicates()\n",
    "# Tratando dado de idade\n",
    "df[\"idade\"] = pd.to_numeric(df[\"idade\"])"
   ]
  },
  {
   "cell_type": "code",
   "execution_count": 3,
   "metadata": {},
   "outputs": [],
   "source": [
    "# Conecta ao banco de dados\n",
    "conn = psycopg2.connect(\n",
    "    host=\"localhost\",\n",
    "    database=\"previsao-patologias\",\n",
    "    user=\"postgres\",\n",
    "    password=\"test\"\n",
    ")\n",
    "\n",
    "cursor = conn.cursor()\n",
    "query = \"SELECT texto FROM tb_questoes WHERE tipo_resposta = 'binaria';\"\n",
    "cursor.execute(query)\n",
    "\n",
    "# Pega resultado da query e transforma em lista para realizar iteração\n",
    "tuplas_resultados = cursor.fetchall()\n",
    "questoes = [item for tupla in tuplas_resultados for item in tupla]"
   ]
  },
  {
   "cell_type": "code",
   "execution_count": 4,
   "metadata": {},
   "outputs": [],
   "source": [
    "questoes_binarias = []\n",
    "for c in questoes:\n",
    "    nome_coluna_tratado = c.replace(\" \", \"_\").replace(\".\", \"\").replace(\"?\", \"\").lower()\n",
    "    questoes_binarias.append(nome_coluna_tratado)\n",
    "    \n",
    "colunas_dummies = [col for col in df.columns if col not in ['idade', 'patologia', 'severidade'] + questoes_binarias]\n",
    "\n",
    "df_dummies = pd.get_dummies(df, columns=colunas_dummies, dtype=int)"
   ]
  },
  {
   "cell_type": "markdown",
   "metadata": {},
   "source": [
    "Separando variáveis dependentes e de testes e criando conjunto de treino e testes"
   ]
  },
  {
   "cell_type": "code",
   "execution_count": 5,
   "metadata": {},
   "outputs": [],
   "source": [
    "variaveis_dependentes = df_dummies.drop(columns=['patologia', 'severidade'])\n",
    "variavel_target = df_dummies['patologia']"
   ]
  },
  {
   "cell_type": "code",
   "execution_count": 6,
   "metadata": {},
   "outputs": [],
   "source": [
    "# Splitando conjuntos de treino e testes\n",
    "X_train, X_test, y_train, y_test = train_test_split(variaveis_dependentes, variavel_target, test_size=0.2, random_state=42)"
   ]
  },
  {
   "cell_type": "code",
   "execution_count": 7,
   "metadata": {},
   "outputs": [],
   "source": [
    "rna = MLPClassifier(\n",
    "    hidden_layer_sizes=(5,),\n",
    "    random_state=42,\n",
    "    max_iter=10,\n",
    "    activation=\"relu\"\n",
    ")\n"
   ]
  },
  {
   "cell_type": "markdown",
   "metadata": {},
   "source": [
    "Realizando Fit das Variáveis e Predição das Observações"
   ]
  },
  {
   "cell_type": "code",
   "execution_count": 8,
   "metadata": {},
   "outputs": [
    {
     "name": "stderr",
     "output_type": "stream",
     "text": [
      "/home/guilhermehip/.pyenv/versions/3.10.13/lib/python3.10/site-packages/sklearn/neural_network/_multilayer_perceptron.py:691: ConvergenceWarning: Stochastic Optimizer: Maximum iterations (10) reached and the optimization hasn't converged yet.\n",
      "  warnings.warn(\n"
     ]
    }
   ],
   "source": [
    "# Realizando o fit das variáveis\n",
    "rna.fit(X_train, y_train)\n",
    "\n",
    "# Fazer previsões\n",
    "y_pred = rna.predict(X_test)"
   ]
  },
  {
   "cell_type": "code",
   "execution_count": 9,
   "metadata": {},
   "outputs": [
    {
     "data": {
      "text/plain": [
       "[610, 5, 49]"
      ]
     },
     "execution_count": 9,
     "metadata": {},
     "output_type": "execute_result"
    }
   ],
   "source": [
    "# Obtenha informações sobre a arquitetura da MLP\n",
    "architecture = [X_train.shape[1]] + list(rna.hidden_layer_sizes) + [len(set(y_train))]\n",
    "architecture"
   ]
  },
  {
   "cell_type": "markdown",
   "metadata": {},
   "source": [
    "Utilizando técnica de acurácia comum"
   ]
  },
  {
   "cell_type": "code",
   "execution_count": 10,
   "metadata": {},
   "outputs": [
    {
     "name": "stdout",
     "output_type": "stream",
     "text": [
      "Acurácia: 0.9927427685950413\n",
      "Relatório de Classificação:\n",
      "                                           precision    recall  f1-score   support\n",
      "\n",
      "     acute copd exacerbation / infection       1.00      1.00      1.00       660\n",
      "                acute dystonic reactions       1.00      1.00      1.00      1017\n",
      "                        acute laryngitis       0.99      0.97      0.98       905\n",
      "                      acute otitis media       1.00      1.00      1.00       978\n",
      "                   acute pulmonary edema       0.99      1.00      1.00       699\n",
      "                    acute rhinosinusitis       0.99      0.77      0.87       487\n",
      "                      allergic sinusitis       1.00      1.00      1.00       879\n",
      "                             anaphylaxis       1.00      1.00      1.00      1056\n",
      "                                  anemia       1.00      1.00      1.00      1939\n",
      "                     atrial fibrillation       1.00      1.00      1.00       807\n",
      "                               boerhaave       1.00      1.00      1.00       620\n",
      "                          bronchiectasis       0.99      1.00      1.00       742\n",
      "                           bronchiolitis       1.00      0.10      0.18        10\n",
      "                              bronchitis       0.99      1.00      0.99      1015\n",
      "bronchospasm / acute asthma exacerbation       1.00      1.00      1.00       732\n",
      "                                  chagas       0.99      1.00      0.99       340\n",
      "                  chronic rhinosinusitis       0.86      0.99      0.92       719\n",
      "                        cluster headache       1.00      1.00      1.00       814\n",
      "                                   croup       0.91      0.98      0.94        99\n",
      "                                   ebola       1.00      0.79      0.88        28\n",
      "                            epiglottitis       1.00      0.98      0.99       695\n",
      "                                    gerd       1.00      1.00      1.00       998\n",
      "                 guillain-barré syndrome       1.00      1.00      1.00       851\n",
      "                 hiv (initial infection)       1.00      1.00      1.00      1043\n",
      "                               influenza       1.00      1.00      1.00       994\n",
      "                         inguinal hernia       1.00      1.00      1.00       741\n",
      "                             larygospasm       1.00      1.00      1.00       332\n",
      "                         localized edema       1.00      0.99      1.00      1065\n",
      "                       myasthenia gravis       1.00      1.00      1.00       676\n",
      "                             myocarditis       0.98      1.00      0.99       422\n",
      "                     pancreatic neoplasm       0.99      0.99      0.99       683\n",
      "                            panic attack       1.00      1.00      1.00       888\n",
      "                            pericarditis       1.00      1.00      1.00       845\n",
      "                               pneumonia       1.00      1.00      1.00       992\n",
      "                 possible nstemi / stemi       1.00      0.99      0.99       843\n",
      "                                    psvt       1.00      1.00      1.00       738\n",
      "                      pulmonary embolism       1.00      1.00      1.00      1029\n",
      "                      pulmonary neoplasm       0.98      1.00      0.99       568\n",
      "                             sarcoidosis       1.00      1.00      1.00       845\n",
      "                scombroid food poisoning       1.00      1.00      1.00       710\n",
      "                                     sle       1.00      0.99      0.99       443\n",
      "                spontaneous pneumothorax       1.00      0.97      0.99       373\n",
      "                spontaneous rib fracture       0.99      1.00      1.00       232\n",
      "                           stable angina       0.95      1.00      0.97       661\n",
      "                            tuberculosis       1.00      1.00      1.00       607\n",
      "                         unstable angina       0.99      0.96      0.97       853\n",
      "                                    urti       1.00      1.00      1.00      2478\n",
      "                       viral pharyngitis       0.99      1.00      0.99      2349\n",
      "                          whooping cough       1.00      1.00      1.00       220\n",
      "\n",
      "                                accuracy                           0.99     38720\n",
      "                               macro avg       0.99      0.97      0.97     38720\n",
      "                            weighted avg       0.99      0.99      0.99     38720\n",
      "\n",
      "F1-Score: 0.9713303858605221\n"
     ]
    }
   ],
   "source": [
    "# Avaliar o desempenho do modelo\n",
    "accuracy = accuracy_score(y_test, y_pred)\n",
    "classification_report_result = classification_report(y_test, y_pred)\n",
    "matriz_confusao = confusion_matrix(y_test, y_pred, labels=rna.classes_)\n",
    "f1 = f1_score(y_test, y_pred, average='macro')\n",
    "\n",
    "# Exibir métricas de desempenho\n",
    "print(f'Acurácia: {accuracy}')\n",
    "print('Relatório de Classificação:\\n', classification_report_result)\n",
    "print(f\"F1-Score: {f1}\")"
   ]
  },
  {
   "cell_type": "markdown",
   "metadata": {},
   "source": [
    "Utilizando K-fold Cross Validation"
   ]
  },
  {
   "cell_type": "code",
   "execution_count": 15,
   "metadata": {},
   "outputs": [
    {
     "name": "stderr",
     "output_type": "stream",
     "text": [
      "/home/guilhermehip/.pyenv/versions/3.10.13/lib/python3.10/site-packages/sklearn/neural_network/_multilayer_perceptron.py:698: UserWarning: Training interrupted by user.\n",
      "  warnings.warn(\"Training interrupted by user.\")\n"
     ]
    }
   ],
   "source": [
    "kfold = StratifiedKFold(n_splits=5, shuffle=True, random_state=42)\n",
    "acuaria_validacao_cruzada = cross_val_score(rna, variaveis_dependentes, variavel_target, cv=kfold, scoring='f1_macro')\n",
    "\n",
    "# Exibir a acurácia média e o desvio padrão\n",
    "print(f'F1-Score Médio (k-fold): {acuaria_validacao_cruzada.mean()}')\n",
    "print(f'Desvio Padrão da Acurácia (k-fold): {acuaria_validacao_cruzada.std()}')"
   ]
  },
  {
   "cell_type": "code",
   "execution_count": 3,
   "metadata": {},
   "outputs": [],
   "source": [
    "# Carregando o Dataset\n",
    "df = pd.read_pickle('../storage/pickle/dataframe_smote0.10.pkl')\n",
    "df = df.drop_duplicates()\n",
    "# Tratando dado de idade\n",
    "df[\"idade\"] = pd.to_numeric(df[\"idade\"])"
   ]
  },
  {
   "cell_type": "code",
   "execution_count": 4,
   "metadata": {},
   "outputs": [],
   "source": [
    "variaveis_dependentes = df.drop(columns=['patologia', 'severidade'])\n",
    "variavel_target = df['patologia']"
   ]
  },
  {
   "cell_type": "code",
   "execution_count": 5,
   "metadata": {},
   "outputs": [],
   "source": [
    "# Splitando conjuntos de treino e testes\n",
    "X_train, X_test, y_train, y_test = train_test_split(variaveis_dependentes, variavel_target, test_size=0.2, random_state=42)"
   ]
  },
  {
   "cell_type": "code",
   "execution_count": 11,
   "metadata": {},
   "outputs": [],
   "source": [
    "rna = MLPClassifier(\n",
    "    hidden_layer_sizes=(5,),\n",
    "    random_state=42,\n",
    "    max_iter=10,\n",
    "    activation=\"relu\"\n",
    ")\n"
   ]
  },
  {
   "cell_type": "code",
   "execution_count": 12,
   "metadata": {},
   "outputs": [
    {
     "name": "stderr",
     "output_type": "stream",
     "text": [
      "/home/guilhermehip/.pyenv/versions/3.10.13/lib/python3.10/site-packages/sklearn/neural_network/_multilayer_perceptron.py:691: ConvergenceWarning: Stochastic Optimizer: Maximum iterations (10) reached and the optimization hasn't converged yet.\n",
      "  warnings.warn(\n"
     ]
    }
   ],
   "source": [
    "# Realizando o fit das variáveis\n",
    "rna.fit(X_train, y_train)\n",
    "\n",
    "# Fazer previsões\n",
    "y_pred = rna.predict(X_test)"
   ]
  },
  {
   "cell_type": "code",
   "execution_count": 13,
   "metadata": {},
   "outputs": [
    {
     "name": "stdout",
     "output_type": "stream",
     "text": [
      "Acurácia: 0.9925245406493833\n",
      "Relatório de Classificação:\n",
      "                                           precision    recall  f1-score   support\n",
      "\n",
      "     acute copd exacerbation / infection       0.99      1.00      1.00       803\n",
      "                acute dystonic reactions       1.00      1.00      1.00       781\n",
      "                        acute laryngitis       0.99      0.99      0.99       829\n",
      "                      acute otitis media       1.00      0.99      1.00       850\n",
      "                   acute pulmonary edema       1.00      1.00      1.00       796\n",
      "                    acute rhinosinusitis       0.93      0.82      0.87       820\n",
      "                      allergic sinusitis       1.00      0.99      1.00       789\n",
      "                             anaphylaxis       1.00      1.00      1.00       851\n",
      "                                  anemia       1.00      1.00      1.00       775\n",
      "                     atrial fibrillation       1.00      1.00      1.00       797\n",
      "                               boerhaave       1.00      1.00      1.00       826\n",
      "                          bronchiectasis       1.00      1.00      1.00       787\n",
      "                           bronchiolitis       1.00      1.00      1.00       827\n",
      "                              bronchitis       0.98      1.00      0.99       809\n",
      "bronchospasm / acute asthma exacerbation       1.00      1.00      1.00       799\n",
      "                                  chagas       1.00      1.00      1.00       818\n",
      "                  chronic rhinosinusitis       0.85      0.95      0.89       884\n",
      "                        cluster headache       1.00      1.00      1.00       805\n",
      "                                   croup       1.00      1.00      1.00       776\n",
      "                                   ebola       1.00      1.00      1.00       785\n",
      "                            epiglottitis       1.00      1.00      1.00       787\n",
      "                                    gerd       1.00      0.98      0.99       772\n",
      "                 guillain-barré syndrome       1.00      1.00      1.00       837\n",
      "                 hiv (initial infection)       1.00      1.00      1.00       829\n",
      "                               influenza       1.00      1.00      1.00       818\n",
      "                         inguinal hernia       1.00      1.00      1.00       847\n",
      "                             larygospasm       1.00      1.00      1.00       832\n",
      "                         localized edema       1.00      1.00      1.00       789\n",
      "                       myasthenia gravis       1.00      1.00      1.00       814\n",
      "                             myocarditis       1.00      1.00      1.00       831\n",
      "                     pancreatic neoplasm       1.00      1.00      1.00       803\n",
      "                            panic attack       1.00      1.00      1.00       841\n",
      "                            pericarditis       1.00      1.00      1.00       755\n",
      "                               pneumonia       1.00      1.00      1.00       820\n",
      "                 possible nstemi / stemi       1.00      1.00      1.00       828\n",
      "                                    psvt       1.00      1.00      1.00       860\n",
      "                      pulmonary embolism       1.00      1.00      1.00       817\n",
      "                      pulmonary neoplasm       1.00      1.00      1.00       826\n",
      "                             sarcoidosis       1.00      1.00      1.00       819\n",
      "                scombroid food poisoning       1.00      1.00      1.00       819\n",
      "                                     sle       1.00      1.00      1.00       804\n",
      "                spontaneous pneumothorax       1.00      1.00      1.00       793\n",
      "                spontaneous rib fracture       1.00      1.00      1.00       808\n",
      "                           stable angina       0.96      1.00      0.98       796\n",
      "                            tuberculosis       1.00      1.00      1.00       777\n",
      "                         unstable angina       1.00      0.96      0.98       863\n",
      "                                    urti       1.00      0.99      1.00       789\n",
      "                       viral pharyngitis       1.00      1.00      1.00       760\n",
      "                          whooping cough       1.00      1.00      1.00       789\n",
      "\n",
      "                                accuracy                           0.99     39730\n",
      "                               macro avg       0.99      0.99      0.99     39730\n",
      "                            weighted avg       0.99      0.99      0.99     39730\n",
      "\n",
      "F1-Score: 0.9927305912409202\n",
      "Sensibilidade (Recall) Média: 0.9926954357394902\n"
     ]
    },
    {
     "ename": "",
     "evalue": "",
     "output_type": "error",
     "traceback": [
      "\u001b[1;31mThe Kernel crashed while executing code in the the current cell or a previous cell. Please review the code in the cell(s) to identify a possible cause of the failure. Click <a href='https://aka.ms/vscodeJupyterKernelCrash'>here</a> for more info. View Jupyter <a href='command:jupyter.viewOutput'>log</a> for further details."
     ]
    }
   ],
   "source": [
    "# Avaliar o desempenho do modelo\n",
    "accuracy = accuracy_score(y_test, y_pred)\n",
    "classification_report_result = classification_report(y_test, y_pred)\n",
    "matriz_confusao = confusion_matrix(y_test, y_pred, labels=rna.classes_)\n",
    "f1 = f1_score(y_test, y_pred, average='macro')\n",
    "\n",
    "# Calcular sensibilidade (recall) e especificidade para cada classe\n",
    "sensibilidade = np.diag(matriz_confusao) / np.sum(matriz_confusao, axis=1)\n",
    "\n",
    "# Calcular sensibilidade e especificidade médias (macro)\n",
    "sensibilidade_media = np.mean(sensibilidade)\n",
    "\n",
    "# Exibir métricas de desempenho\n",
    "print(f'Acurácia: {accuracy}')\n",
    "print('Relatório de Classificação:\\n', classification_report_result)\n",
    "print(f\"F1-Score: {f1}\")\n",
    "print(f'Sensibilidade (Recall) Média: {sensibilidade_media}')"
   ]
  }
 ],
 "metadata": {
  "kernelspec": {
   "display_name": "Python 3",
   "language": "python",
   "name": "python3"
  },
  "language_info": {
   "codemirror_mode": {
    "name": "ipython",
    "version": 3
   },
   "file_extension": ".py",
   "mimetype": "text/x-python",
   "name": "python",
   "nbconvert_exporter": "python",
   "pygments_lexer": "ipython3",
   "version": "3.10.13"
  }
 },
 "nbformat": 4,
 "nbformat_minor": 2
}
