{
 "cells": [
  {
   "cell_type": "code",
   "execution_count": 3,
   "metadata": {},
   "outputs": [],
   "source": [
    "import pandas as pd\n",
    "import psycopg2\n",
    "from sklearn.model_selection import train_test_split\n",
    "from sklearn.metrics import accuracy_score, classification_report, confusion_matrix\n",
    "from sklearn.metrics import f1_score\n",
    "from sklearn.dummy import DummyClassifier\n",
    "import numpy as np\n"
   ]
  },
  {
   "cell_type": "code",
   "execution_count": 2,
   "metadata": {},
   "outputs": [],
   "source": [
    "# Carregando o Dataset\n",
    "df = pd.read_pickle('../storage/pickle/dataframe_amostra_no_dummies0.15.pkl')\n",
    "df = df.drop_duplicates()\n",
    "# Tratando dado de idade\n",
    "df[\"idade\"] = pd.to_numeric(df[\"idade\"])"
   ]
  },
  {
   "cell_type": "code",
   "execution_count": 3,
   "metadata": {},
   "outputs": [],
   "source": [
    "# Conecta ao banco de dados\n",
    "conn = psycopg2.connect(\n",
    "    host=\"localhost\",\n",
    "    database=\"previsao-patologias\",\n",
    "    user=\"postgres\",\n",
    "    password=\"test\"\n",
    ")\n",
    "\n",
    "cursor = conn.cursor()\n",
    "query = \"SELECT texto FROM tb_questoes WHERE tipo_resposta = 'binaria';\"\n",
    "cursor.execute(query)\n",
    "\n",
    "# Pega resultado da query e transforma em lista para realizar iteração\n",
    "tuplas_resultados = cursor.fetchall()\n",
    "questoes = [item for tupla in tuplas_resultados for item in tupla]"
   ]
  },
  {
   "cell_type": "code",
   "execution_count": 4,
   "metadata": {},
   "outputs": [],
   "source": [
    "questoes_binarias = []\n",
    "for c in questoes:\n",
    "    nome_coluna_tratado = c.replace(\" \", \"_\").replace(\".\", \"\").replace(\"?\", \"\").lower()\n",
    "    questoes_binarias.append(nome_coluna_tratado)\n",
    "    \n",
    "colunas_dummies = [col for col in df.columns if col not in ['idade', 'patologia', 'severidade'] + questoes_binarias]\n",
    "\n",
    "df_dummies = pd.get_dummies(df, columns=colunas_dummies, dtype=int)"
   ]
  },
  {
   "cell_type": "markdown",
   "metadata": {},
   "source": [
    "Separando variáveis dependentes e de testes e criando conjunto de treino e testes"
   ]
  },
  {
   "cell_type": "code",
   "execution_count": 5,
   "metadata": {},
   "outputs": [],
   "source": [
    "variaveis_dependentes = df_dummies.drop(columns=['patologia', 'severidade'])\n",
    "variavel_target = df_dummies['patologia']"
   ]
  },
  {
   "cell_type": "code",
   "execution_count": 6,
   "metadata": {},
   "outputs": [],
   "source": [
    "# Splitando conjuntos de treino e testes\n",
    "X_train, X_test, y_train, y_test = train_test_split(variaveis_dependentes, variavel_target, test_size=0.2, random_state=42)"
   ]
  },
  {
   "cell_type": "code",
   "execution_count": 7,
   "metadata": {},
   "outputs": [
    {
     "name": "stdout",
     "output_type": "stream",
     "text": [
      "Acurácia do modelo nulo: 0.019292355371900827\n"
     ]
    }
   ],
   "source": [
    "# Criar um modelo nulo (classificação majoritária)\n",
    "dummy_model = DummyClassifier(strategy='uniform')\n",
    "\n",
    "# Treinar o modelo nulo no conjunto de treinamento\n",
    "dummy_model.fit(X_train, y_train)\n",
    "\n",
    "# Fazer previsões no conjunto de teste\n",
    "y_pred_null = dummy_model.predict(X_test)\n",
    "\n",
    "# Avaliar o desempenho do modelo nulo\n",
    "accuracy_null = accuracy_score(y_test, y_pred_null)\n",
    "print(f'Acurácia do modelo nulo: {accuracy_null}')"
   ]
  },
  {
   "cell_type": "code",
   "execution_count": 8,
   "metadata": {},
   "outputs": [
    {
     "name": "stdout",
     "output_type": "stream",
     "text": [
      "Acurácia: 0.019292355371900827\n",
      "Relatório de Classificação:\n",
      "                                           precision    recall  f1-score   support\n",
      "\n",
      "     acute copd exacerbation / infection       0.02      0.02      0.02       660\n",
      "                acute dystonic reactions       0.02      0.02      0.02      1017\n",
      "                        acute laryngitis       0.03      0.03      0.03       905\n",
      "                      acute otitis media       0.03      0.02      0.02       978\n",
      "                   acute pulmonary edema       0.02      0.02      0.02       699\n",
      "                    acute rhinosinusitis       0.01      0.01      0.01       487\n",
      "                      allergic sinusitis       0.02      0.02      0.02       879\n",
      "                             anaphylaxis       0.04      0.03      0.03      1056\n",
      "                                  anemia       0.05      0.02      0.03      1939\n",
      "                     atrial fibrillation       0.02      0.01      0.02       807\n",
      "                               boerhaave       0.01      0.02      0.02       620\n",
      "                          bronchiectasis       0.01      0.02      0.02       742\n",
      "                           bronchiolitis       0.00      0.00      0.00        10\n",
      "                              bronchitis       0.02      0.01      0.02      1015\n",
      "bronchospasm / acute asthma exacerbation       0.02      0.02      0.02       732\n",
      "                                  chagas       0.01      0.01      0.01       340\n",
      "                  chronic rhinosinusitis       0.03      0.03      0.03       719\n",
      "                        cluster headache       0.02      0.02      0.02       814\n",
      "                                   croup       0.00      0.04      0.01        99\n",
      "                                   ebola       0.00      0.00      0.00        28\n",
      "                            epiglottitis       0.02      0.02      0.02       695\n",
      "                                    gerd       0.02      0.02      0.02       998\n",
      "                 guillain-barré syndrome       0.03      0.03      0.03       851\n",
      "                 hiv (initial infection)       0.02      0.01      0.02      1043\n",
      "                               influenza       0.02      0.02      0.02       994\n",
      "                         inguinal hernia       0.02      0.02      0.02       741\n",
      "                             larygospasm       0.01      0.02      0.01       332\n",
      "                         localized edema       0.02      0.02      0.02      1065\n",
      "                       myasthenia gravis       0.02      0.02      0.02       676\n",
      "                             myocarditis       0.01      0.01      0.01       422\n",
      "                     pancreatic neoplasm       0.02      0.02      0.02       683\n",
      "                            panic attack       0.03      0.02      0.03       888\n",
      "                            pericarditis       0.02      0.02      0.02       845\n",
      "                               pneumonia       0.02      0.02      0.02       992\n",
      "                 possible nstemi / stemi       0.02      0.02      0.02       843\n",
      "                                    psvt       0.01      0.02      0.02       738\n",
      "                      pulmonary embolism       0.02      0.01      0.02      1029\n",
      "                      pulmonary neoplasm       0.01      0.01      0.01       568\n",
      "                             sarcoidosis       0.02      0.02      0.02       845\n",
      "                scombroid food poisoning       0.01      0.01      0.01       710\n",
      "                                     sle       0.01      0.03      0.02       443\n",
      "                spontaneous pneumothorax       0.01      0.02      0.01       373\n",
      "                spontaneous rib fracture       0.00      0.01      0.01       232\n",
      "                           stable angina       0.02      0.02      0.02       661\n",
      "                            tuberculosis       0.02      0.02      0.02       607\n",
      "                         unstable angina       0.03      0.03      0.03       853\n",
      "                                    urti       0.05      0.02      0.03      2478\n",
      "                       viral pharyngitis       0.06      0.02      0.03      2349\n",
      "                          whooping cough       0.01      0.02      0.01       220\n",
      "\n",
      "                                accuracy                           0.02     38720\n",
      "                               macro avg       0.02      0.02      0.02     38720\n",
      "                            weighted avg       0.03      0.02      0.02     38720\n",
      "\n",
      "F1-Score: 0.017815126570751613\n",
      "Sensibilidade (Recall) Média: 0.018813549304524023\n"
     ]
    }
   ],
   "source": [
    "# Avaliar o desempenho do modelo\n",
    "accuracy = accuracy_score(y_test, y_pred_null)\n",
    "classification_report_result = classification_report(y_test, y_pred_null)\n",
    "matriz_confusao = confusion_matrix(y_test, y_pred_null, labels=dummy_model.classes_)\n",
    "f1 = f1_score(y_test, y_pred_null, average='macro')\n",
    "\n",
    "# Calcular sensibilidade (recall) e especificidade para cada classe\n",
    "sensibilidade = np.diag(matriz_confusao) / np.sum(matriz_confusao, axis=1)\n",
    "\n",
    "# Calcular sensibilidade e especificidade médias (macro)\n",
    "sensibilidade_media = np.mean(sensibilidade)\n",
    "\n",
    "# Exibir métricas de desempenho\n",
    "print(f'Acurácia: {accuracy}')\n",
    "print('Relatório de Classificação:\\n', classification_report_result)\n",
    "print(f\"F1-Score: {f1}\")\n",
    "print(f'Sensibilidade (Recall) Média: {sensibilidade_media}')"
   ]
  },
  {
   "cell_type": "code",
   "execution_count": 8,
   "metadata": {},
   "outputs": [],
   "source": [
    "# Carregando o Dataset\n",
    "df = pd.read_pickle('../storage/pickle/dataframe_smote0.10.pkl')\n",
    "df = df.drop_duplicates()\n",
    "# Tratando dado de idade\n",
    "df[\"idade\"] = pd.to_numeric(df[\"idade\"])"
   ]
  },
  {
   "cell_type": "code",
   "execution_count": 9,
   "metadata": {},
   "outputs": [],
   "source": [
    "variaveis_dependentes = df.drop(columns=['patologia', 'severidade'])\n",
    "variavel_target = df['patologia']"
   ]
  },
  {
   "cell_type": "code",
   "execution_count": 10,
   "metadata": {},
   "outputs": [],
   "source": [
    "# Splitando conjuntos de treino e testes\n",
    "X_train, X_test, y_train, y_test = train_test_split(variaveis_dependentes, variavel_target, test_size=0.2, random_state=42)"
   ]
  },
  {
   "cell_type": "code",
   "execution_count": 11,
   "metadata": {},
   "outputs": [
    {
     "name": "stdout",
     "output_type": "stream",
     "text": [
      "Acurácia do modelo nulo: 0.020135917442738484\n"
     ]
    }
   ],
   "source": [
    "# Criar um modelo nulo (classificação majoritária)\n",
    "dummy_model = DummyClassifier(strategy='uniform')\n",
    "\n",
    "# Treinar o modelo nulo no conjunto de treinamento\n",
    "dummy_model.fit(X_train, y_train)\n",
    "\n",
    "# Fazer previsões no conjunto de teste\n",
    "y_pred_null = dummy_model.predict(X_test)\n",
    "\n",
    "# Avaliar o desempenho do modelo nulo\n",
    "accuracy_null = accuracy_score(y_test, y_pred_null)\n",
    "print(f'Acurácia do modelo nulo: {accuracy_null}')"
   ]
  },
  {
   "cell_type": "code",
   "execution_count": 13,
   "metadata": {},
   "outputs": [
    {
     "name": "stdout",
     "output_type": "stream",
     "text": [
      "Acurácia: 0.020135917442738484\n",
      "Relatório de Classificação:\n",
      "                                           precision    recall  f1-score   support\n",
      "\n",
      "     acute copd exacerbation / infection       0.03      0.03      0.03       803\n",
      "                acute dystonic reactions       0.02      0.02      0.02       781\n",
      "                        acute laryngitis       0.02      0.02      0.02       829\n",
      "                      acute otitis media       0.01      0.01      0.01       850\n",
      "                   acute pulmonary edema       0.02      0.02      0.02       796\n",
      "                    acute rhinosinusitis       0.02      0.02      0.02       820\n",
      "                      allergic sinusitis       0.02      0.02      0.02       789\n",
      "                             anaphylaxis       0.02      0.02      0.02       851\n",
      "                                  anemia       0.02      0.03      0.02       775\n",
      "                     atrial fibrillation       0.02      0.02      0.02       797\n",
      "                               boerhaave       0.01      0.01      0.01       826\n",
      "                          bronchiectasis       0.02      0.02      0.02       787\n",
      "                           bronchiolitis       0.02      0.02      0.02       827\n",
      "                              bronchitis       0.01      0.01      0.01       809\n",
      "bronchospasm / acute asthma exacerbation       0.02      0.02      0.02       799\n",
      "                                  chagas       0.02      0.02      0.02       818\n",
      "                  chronic rhinosinusitis       0.02      0.02      0.02       884\n",
      "                        cluster headache       0.02      0.02      0.02       805\n",
      "                                   croup       0.01      0.02      0.02       776\n",
      "                                   ebola       0.02      0.02      0.02       785\n",
      "                            epiglottitis       0.03      0.03      0.03       787\n",
      "                                    gerd       0.02      0.02      0.02       772\n",
      "                 guillain-barré syndrome       0.02      0.02      0.02       837\n",
      "                 hiv (initial infection)       0.02      0.02      0.02       829\n",
      "                               influenza       0.01      0.01      0.01       818\n",
      "                         inguinal hernia       0.03      0.03      0.03       847\n",
      "                             larygospasm       0.02      0.01      0.01       832\n",
      "                         localized edema       0.02      0.02      0.02       789\n",
      "                       myasthenia gravis       0.02      0.02      0.02       814\n",
      "                             myocarditis       0.02      0.03      0.03       831\n",
      "                     pancreatic neoplasm       0.02      0.02      0.02       803\n",
      "                            panic attack       0.02      0.02      0.02       841\n",
      "                            pericarditis       0.02      0.02      0.02       755\n",
      "                               pneumonia       0.01      0.01      0.01       820\n",
      "                 possible nstemi / stemi       0.03      0.03      0.03       828\n",
      "                                    psvt       0.01      0.01      0.01       860\n",
      "                      pulmonary embolism       0.02      0.02      0.02       817\n",
      "                      pulmonary neoplasm       0.03      0.03      0.03       826\n",
      "                             sarcoidosis       0.02      0.02      0.02       819\n",
      "                scombroid food poisoning       0.02      0.02      0.02       819\n",
      "                                     sle       0.01      0.01      0.01       804\n",
      "                spontaneous pneumothorax       0.01      0.01      0.01       793\n",
      "                spontaneous rib fracture       0.02      0.02      0.02       808\n",
      "                           stable angina       0.02      0.02      0.02       796\n",
      "                            tuberculosis       0.02      0.02      0.02       777\n",
      "                         unstable angina       0.02      0.02      0.02       863\n",
      "                                    urti       0.02      0.02      0.02       789\n",
      "                       viral pharyngitis       0.03      0.04      0.03       760\n",
      "                          whooping cough       0.02      0.02      0.02       789\n",
      "\n",
      "                                accuracy                           0.02     39730\n",
      "                               macro avg       0.02      0.02      0.02     39730\n",
      "                            weighted avg       0.02      0.02      0.02     39730\n",
      "\n",
      "F1-Score: 0.020118055033567308\n"
     ]
    }
   ],
   "source": [
    "# Avaliar o desempenho do modelo\n",
    "accuracy = accuracy_score(y_test, y_pred_null)\n",
    "classification_report_result = classification_report(y_test, y_pred_null)\n",
    "matriz_confusao = confusion_matrix(y_test, y_pred_null, labels=dummy_model.classes_)\n",
    "f1 = f1_score(y_test, y_pred_null, average='macro')\n",
    "\n",
    "# Calcular sensibilidade (recall) e especificidade para cada classe\n",
    "sensibilidade = np.diag(matriz_confusao) / np.sum(matriz_confusao, axis=1)\n",
    "\n",
    "# Calcular sensibilidade e especificidade médias (macro)\n",
    "sensibilidade_media = np.mean(sensibilidade)\n",
    "\n",
    "# Exibir métricas de desempenho\n",
    "print(f'Acurácia: {accuracy}')\n",
    "print('Relatório de Classificação:\\n', classification_report_result)\n",
    "print(f\"F1-Score: {f1}\")\n",
    "# print(f'Sensibilidade (Recall) Média: {sensibilidade_media}')"
   ]
  }
 ],
 "metadata": {
  "kernelspec": {
   "display_name": "Python 3",
   "language": "python",
   "name": "python3"
  },
  "language_info": {
   "codemirror_mode": {
    "name": "ipython",
    "version": 3
   },
   "file_extension": ".py",
   "mimetype": "text/x-python",
   "name": "python",
   "nbconvert_exporter": "python",
   "pygments_lexer": "ipython3",
   "version": "3.10.13"
  }
 },
 "nbformat": 4,
 "nbformat_minor": 2
}
