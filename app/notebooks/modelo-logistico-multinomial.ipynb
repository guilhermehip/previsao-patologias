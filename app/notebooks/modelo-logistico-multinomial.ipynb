{
 "cells": [
  {
   "cell_type": "code",
   "execution_count": 1,
   "metadata": {},
   "outputs": [],
   "source": [
    "import pandas as pd\n",
    "import psycopg2\n",
    "from sklearn.model_selection import train_test_split\n",
    "from sklearn.linear_model import LogisticRegression\n",
    "from sklearn.metrics import accuracy_score, classification_report, confusion_matrix\n",
    "from sklearn.model_selection import StratifiedKFold, cross_val_score\n",
    "from sklearn.metrics import f1_score, multilabel_confusion_matrix\n",
    "import numpy as np\n",
    "import pandas as pd\n",
    "import statsmodels.api as sm\n",
    "from statsmodels.discrete.discrete_model import MNLogit"
   ]
  },
  {
   "cell_type": "code",
   "execution_count": 29,
   "metadata": {},
   "outputs": [],
   "source": [
    "# Carregando o Dataset\n",
    "df = pd.read_pickle('../storage/pickle/dataframe_amostra_no_dummies0.15.pkl')\n",
    "df = df.drop_duplicates()\n",
    "# Tratando dado de idade\n",
    "df[\"idade\"] = pd.to_numeric(df[\"idade\"])"
   ]
  },
  {
   "cell_type": "code",
   "execution_count": 30,
   "metadata": {},
   "outputs": [],
   "source": [
    "# Conecta ao banco de dados\n",
    "conn = psycopg2.connect(\n",
    "    host=\"localhost\",\n",
    "    database=\"previsao-patologias\",\n",
    "    user=\"postgres\",\n",
    "    password=\"test\"\n",
    ")\n",
    "\n",
    "cursor = conn.cursor()\n",
    "query = \"SELECT texto FROM tb_questoes WHERE tipo_resposta = 'binaria';\"\n",
    "cursor.execute(query)\n",
    "\n",
    "# Pega resultado da query e transforma em lista para realizar iteração\n",
    "tuplas_resultados = cursor.fetchall()\n",
    "questoes = [item for tupla in tuplas_resultados for item in tupla]"
   ]
  },
  {
   "cell_type": "code",
   "execution_count": 31,
   "metadata": {},
   "outputs": [],
   "source": [
    "questoes_binarias = []\n",
    "for c in questoes:\n",
    "    nome_coluna_tratado = c.replace(\" \", \"_\").replace(\".\", \"\").replace(\"?\", \"\").lower()\n",
    "    questoes_binarias.append(nome_coluna_tratado)\n",
    "    \n",
    "colunas_dummies = [col for col in df.columns if col not in ['idade', 'patologia', 'severidade'] + questoes_binarias]\n",
    "\n",
    "df_dummies = pd.get_dummies(df, columns=colunas_dummies, dtype=int)"
   ]
  },
  {
   "cell_type": "markdown",
   "metadata": {},
   "source": [
    "Separando variáveis dependentes e de testes e criando conjunto de treino e testes"
   ]
  },
  {
   "cell_type": "code",
   "execution_count": 32,
   "metadata": {},
   "outputs": [],
   "source": [
    "x = df_dummies.drop(columns=['patologia', 'severidade']).astype('int64')\n",
    "y = df_dummies['patologia']"
   ]
  },
  {
   "cell_type": "code",
   "execution_count": 33,
   "metadata": {},
   "outputs": [],
   "source": [
    "X_train, X_test, y_train, y_test = train_test_split(x, y, test_size=0.2, random_state=42)"
   ]
  },
  {
   "cell_type": "code",
   "execution_count": 37,
   "metadata": {},
   "outputs": [],
   "source": [
    "params = {'C': 0.001, 'penalty': 'l2'}\n",
    "regressao_logistica = LogisticRegression(multi_class='multinomial', solver=\"lbfgs\", max_iter=50, random_state=42, n_jobs=-1, **params)"
   ]
  },
  {
   "cell_type": "markdown",
   "metadata": {},
   "source": [
    "Realizando Fit das Variáveis e Predição das Observações"
   ]
  },
  {
   "cell_type": "code",
   "execution_count": 38,
   "metadata": {},
   "outputs": [
    {
     "name": "stderr",
     "output_type": "stream",
     "text": [
      "/home/guilhermehip/.pyenv/versions/3.10.13/lib/python3.10/site-packages/sklearn/linear_model/_logistic.py:460: ConvergenceWarning: lbfgs failed to converge (status=1):\n",
      "STOP: TOTAL NO. of ITERATIONS REACHED LIMIT.\n",
      "\n",
      "Increase the number of iterations (max_iter) or scale the data as shown in:\n",
      "    https://scikit-learn.org/stable/modules/preprocessing.html\n",
      "Please also refer to the documentation for alternative solver options:\n",
      "    https://scikit-learn.org/stable/modules/linear_model.html#logistic-regression\n",
      "  n_iter_i = _check_optimize_result(\n"
     ]
    }
   ],
   "source": [
    "# Realizando o fit das variáveis\n",
    "regressao_logistica.fit(X_train, y_train)\n",
    "\n",
    "# Fazer previsões\n",
    "y_pred = regressao_logistica.predict(X_test)"
   ]
  },
  {
   "cell_type": "markdown",
   "metadata": {},
   "source": [
    "Utilizando técnica de acurácia comum"
   ]
  },
  {
   "cell_type": "code",
   "execution_count": 71,
   "metadata": {},
   "outputs": [
    {
     "name": "stderr",
     "output_type": "stream",
     "text": [
      "/home/guilhermehip/.pyenv/versions/3.10.13/lib/python3.10/site-packages/sklearn/metrics/_classification.py:1471: UndefinedMetricWarning: Precision and F-score are ill-defined and being set to 0.0 in labels with no predicted samples. Use `zero_division` parameter to control this behavior.\n",
      "  _warn_prf(average, modifier, msg_start, len(result))\n",
      "/home/guilhermehip/.pyenv/versions/3.10.13/lib/python3.10/site-packages/sklearn/metrics/_classification.py:1471: UndefinedMetricWarning: Precision and F-score are ill-defined and being set to 0.0 in labels with no predicted samples. Use `zero_division` parameter to control this behavior.\n",
      "  _warn_prf(average, modifier, msg_start, len(result))\n",
      "/home/guilhermehip/.pyenv/versions/3.10.13/lib/python3.10/site-packages/sklearn/metrics/_classification.py:1471: UndefinedMetricWarning: Precision and F-score are ill-defined and being set to 0.0 in labels with no predicted samples. Use `zero_division` parameter to control this behavior.\n",
      "  _warn_prf(average, modifier, msg_start, len(result))\n"
     ]
    },
    {
     "name": "stdout",
     "output_type": "stream",
     "text": [
      "Acurácia: 0.9270661157024793\n",
      "Relatório de Classificação:\n",
      "                                           precision    recall  f1-score   support\n",
      "\n",
      "     acute copd exacerbation / infection       0.94      1.00      0.97       660\n",
      "                acute dystonic reactions       1.00      0.99      1.00      1017\n",
      "                        acute laryngitis       0.85      0.85      0.85       905\n",
      "                      acute otitis media       0.87      0.94      0.91       978\n",
      "                   acute pulmonary edema       1.00      1.00      1.00       699\n",
      "                    acute rhinosinusitis       1.00      0.11      0.20       487\n",
      "                      allergic sinusitis       0.85      0.99      0.92       879\n",
      "                             anaphylaxis       1.00      1.00      1.00      1056\n",
      "                                  anemia       1.00      0.99      1.00      1939\n",
      "                     atrial fibrillation       1.00      0.99      1.00       807\n",
      "                               boerhaave       1.00      0.89      0.94       620\n",
      "                          bronchiectasis       0.97      0.99      0.98       742\n",
      "                           bronchiolitis       0.00      0.00      0.00        10\n",
      "                              bronchitis       0.90      0.94      0.92      1015\n",
      "bronchospasm / acute asthma exacerbation       0.92      0.99      0.95       732\n",
      "                                  chagas       1.00      0.41      0.59       340\n",
      "                  chronic rhinosinusitis       0.63      0.99      0.77       719\n",
      "                        cluster headache       1.00      0.95      0.97       814\n",
      "                                   croup       0.00      0.00      0.00        99\n",
      "                                   ebola       0.00      0.00      0.00        28\n",
      "                            epiglottitis       0.98      0.93      0.95       695\n",
      "                                    gerd       1.00      0.97      0.98       998\n",
      "                 guillain-barré syndrome       0.88      0.99      0.93       851\n",
      "                 hiv (initial infection)       1.00      1.00      1.00      1043\n",
      "                               influenza       1.00      1.00      1.00       994\n",
      "                         inguinal hernia       1.00      0.97      0.98       741\n",
      "                             larygospasm       1.00      0.25      0.40       332\n",
      "                         localized edema       1.00      1.00      1.00      1065\n",
      "                       myasthenia gravis       0.98      0.98      0.98       676\n",
      "                             myocarditis       1.00      0.47      0.64       422\n",
      "                     pancreatic neoplasm       1.00      0.99      0.99       683\n",
      "                            panic attack       1.00      0.99      1.00       888\n",
      "                            pericarditis       0.86      0.98      0.92       845\n",
      "                               pneumonia       1.00      1.00      1.00       992\n",
      "                 possible nstemi / stemi       0.98      1.00      0.99       843\n",
      "                                    psvt       1.00      0.98      0.99       738\n",
      "                      pulmonary embolism       1.00      1.00      1.00      1029\n",
      "                      pulmonary neoplasm       1.00      0.96      0.98       568\n",
      "                             sarcoidosis       0.95      1.00      0.97       845\n",
      "                scombroid food poisoning       1.00      1.00      1.00       710\n",
      "                                     sle       1.00      0.96      0.98       443\n",
      "                spontaneous pneumothorax       1.00      0.62      0.76       373\n",
      "                spontaneous rib fracture       0.16      0.82      0.27       232\n",
      "                           stable angina       0.98      0.84      0.91       661\n",
      "                            tuberculosis       0.87      0.78      0.82       607\n",
      "                         unstable angina       0.91      0.96      0.94       853\n",
      "                                    urti       1.00      0.94      0.97      2478\n",
      "                       viral pharyngitis       0.90      0.95      0.92      2349\n",
      "                          whooping cough       0.00      0.00      0.00       220\n",
      "\n",
      "                                accuracy                           0.93     38720\n",
      "                               macro avg       0.86      0.82      0.82     38720\n",
      "                            weighted avg       0.94      0.93      0.92     38720\n",
      "\n",
      "F1-Score: 0.8210141405430245\n"
     ]
    }
   ],
   "source": [
    "# Avaliar o desempenho do modelo\n",
    "accuracy = accuracy_score(y_test, y_pred)\n",
    "classification_report_result = classification_report(y_test, y_pred)\n",
    "matriz_confusao = confusion_matrix(y_test, y_pred, labels=regressao_logistica.classes_)\n",
    "f1 = f1_score(y_test, y_pred, average='macro')\n",
    "\n",
    "# Calcular sensibilidade (recall) e especificidade para cada classe\n",
    "sensibilidade = np.diag(matriz_confusao) / np.sum(matriz_confusao, axis=1)\n",
    "\n",
    "# Calcular sensibilidade e especificidade médias (macro)\n",
    "sensibilidade_media = np.mean(sensibilidade)\n",
    "\n",
    "# Exibir métricas de desempenho\n",
    "print(f'Acurácia: {accuracy}')\n",
    "print('Relatório de Classificação:\\n', classification_report_result)\n",
    "print(f\"F1-Score: {f1}\")\n",
    "print(f'Sensibilidade (Recall) Média: {sensibilidade_media}')"
   ]
  },
  {
   "cell_type": "markdown",
   "metadata": {},
   "source": [
    "Utilizando K-fold Cross Validation"
   ]
  },
  {
   "cell_type": "code",
   "execution_count": 38,
   "metadata": {},
   "outputs": [
    {
     "name": "stderr",
     "output_type": "stream",
     "text": [
      "/home/guilhermehip/.pyenv/versions/3.10.13/lib/python3.10/site-packages/sklearn/linear_model/_logistic.py:460: ConvergenceWarning: lbfgs failed to converge (status=1):\n",
      "STOP: TOTAL NO. of ITERATIONS REACHED LIMIT.\n",
      "\n",
      "Increase the number of iterations (max_iter) or scale the data as shown in:\n",
      "    https://scikit-learn.org/stable/modules/preprocessing.html\n",
      "Please also refer to the documentation for alternative solver options:\n",
      "    https://scikit-learn.org/stable/modules/linear_model.html#logistic-regression\n",
      "  n_iter_i = _check_optimize_result(\n",
      "/home/guilhermehip/.pyenv/versions/3.10.13/lib/python3.10/site-packages/sklearn/linear_model/_logistic.py:460: ConvergenceWarning: lbfgs failed to converge (status=1):\n",
      "STOP: TOTAL NO. of ITERATIONS REACHED LIMIT.\n",
      "\n",
      "Increase the number of iterations (max_iter) or scale the data as shown in:\n",
      "    https://scikit-learn.org/stable/modules/preprocessing.html\n",
      "Please also refer to the documentation for alternative solver options:\n",
      "    https://scikit-learn.org/stable/modules/linear_model.html#logistic-regression\n",
      "  n_iter_i = _check_optimize_result(\n",
      "/home/guilhermehip/.pyenv/versions/3.10.13/lib/python3.10/site-packages/sklearn/linear_model/_logistic.py:460: ConvergenceWarning: lbfgs failed to converge (status=1):\n",
      "STOP: TOTAL NO. of ITERATIONS REACHED LIMIT.\n",
      "\n",
      "Increase the number of iterations (max_iter) or scale the data as shown in:\n",
      "    https://scikit-learn.org/stable/modules/preprocessing.html\n",
      "Please also refer to the documentation for alternative solver options:\n",
      "    https://scikit-learn.org/stable/modules/linear_model.html#logistic-regression\n",
      "  n_iter_i = _check_optimize_result(\n",
      "/home/guilhermehip/.pyenv/versions/3.10.13/lib/python3.10/site-packages/sklearn/linear_model/_logistic.py:460: ConvergenceWarning: lbfgs failed to converge (status=1):\n",
      "STOP: TOTAL NO. of ITERATIONS REACHED LIMIT.\n",
      "\n",
      "Increase the number of iterations (max_iter) or scale the data as shown in:\n",
      "    https://scikit-learn.org/stable/modules/preprocessing.html\n",
      "Please also refer to the documentation for alternative solver options:\n",
      "    https://scikit-learn.org/stable/modules/linear_model.html#logistic-regression\n",
      "  n_iter_i = _check_optimize_result(\n",
      "/home/guilhermehip/.pyenv/versions/3.10.13/lib/python3.10/site-packages/sklearn/linear_model/_logistic.py:460: ConvergenceWarning: lbfgs failed to converge (status=1):\n",
      "STOP: TOTAL NO. of ITERATIONS REACHED LIMIT.\n",
      "\n",
      "Increase the number of iterations (max_iter) or scale the data as shown in:\n",
      "    https://scikit-learn.org/stable/modules/preprocessing.html\n",
      "Please also refer to the documentation for alternative solver options:\n",
      "    https://scikit-learn.org/stable/modules/linear_model.html#logistic-regression\n",
      "  n_iter_i = _check_optimize_result(\n"
     ]
    },
    {
     "name": "stdout",
     "output_type": "stream",
     "text": [
      "Acurácia (k-fold): 0.9768740453614955\n",
      "Desvio Padrão da Acurácia (k-fold): 0.0032105341492067105\n"
     ]
    }
   ],
   "source": [
    "kfold = StratifiedKFold(n_splits=5, shuffle=True, random_state=42)\n",
    "acuracia_validacao_cruzada = cross_val_score(regressao_logistica, x, y, cv=kfold, scoring='accuracy')\n",
    "\n",
    "# Exibir a acurácia média e o desvio padrão\n",
    "print(f'Acurácia (k-fold): {acuracia_validacao_cruzada.mean()}')\n",
    "print(f'Desvio Padrão da Acurácia (k-fold): {acuracia_validacao_cruzada.std()}')"
   ]
  },
  {
   "cell_type": "code",
   "execution_count": 2,
   "metadata": {},
   "outputs": [],
   "source": [
    "# Carregando o Dataset\n",
    "df = pd.read_pickle('../storage/pickle/dataframe_smote0.10.pkl')\n",
    "df = df.drop_duplicates()\n",
    "# Tratando dado de idade\n",
    "df[\"idade\"] = pd.to_numeric(df[\"idade\"])"
   ]
  },
  {
   "cell_type": "code",
   "execution_count": 3,
   "metadata": {},
   "outputs": [],
   "source": [
    "variaveis_dependentes = df.drop(columns=['patologia', 'severidade'])\n",
    "variavel_target = df['patologia']"
   ]
  },
  {
   "cell_type": "code",
   "execution_count": 4,
   "metadata": {},
   "outputs": [],
   "source": [
    "# Splitando conjuntos de treino e testes\n",
    "X_train, X_test, y_train, y_test = train_test_split(variaveis_dependentes, variavel_target, test_size=0.2, random_state=42)"
   ]
  },
  {
   "cell_type": "code",
   "execution_count": 5,
   "metadata": {},
   "outputs": [],
   "source": [
    "params = {'C': 0.001, 'penalty': 'l2'}\n",
    "regressao_logistica = LogisticRegression(multi_class='multinomial', solver=\"lbfgs\", max_iter=50, random_state=42, n_jobs=-1, **params)"
   ]
  },
  {
   "cell_type": "code",
   "execution_count": 6,
   "metadata": {},
   "outputs": [
    {
     "name": "stderr",
     "output_type": "stream",
     "text": [
      "/home/guilhermehip/.pyenv/versions/3.10.13/lib/python3.10/site-packages/sklearn/linear_model/_logistic.py:460: ConvergenceWarning: lbfgs failed to converge (status=1):\n",
      "STOP: TOTAL NO. of ITERATIONS REACHED LIMIT.\n",
      "\n",
      "Increase the number of iterations (max_iter) or scale the data as shown in:\n",
      "    https://scikit-learn.org/stable/modules/preprocessing.html\n",
      "Please also refer to the documentation for alternative solver options:\n",
      "    https://scikit-learn.org/stable/modules/linear_model.html#logistic-regression\n",
      "  n_iter_i = _check_optimize_result(\n"
     ]
    }
   ],
   "source": [
    "# Realizando o fit das variáveis\n",
    "regressao_logistica.fit(X_train, y_train)\n",
    "\n",
    "# Fazer previsões\n",
    "y_pred = regressao_logistica.predict(X_test)"
   ]
  },
  {
   "cell_type": "code",
   "execution_count": 9,
   "metadata": {},
   "outputs": [
    {
     "name": "stdout",
     "output_type": "stream",
     "text": [
      "Acurácia: 0.9825320916184244\n",
      "Relatório de Classificação:\n",
      "                                           precision    recall  f1-score   support\n",
      "\n",
      "     acute copd exacerbation / infection       1.00      1.00      1.00       803\n",
      "                acute dystonic reactions       1.00      0.96      0.98       781\n",
      "                        acute laryngitis       0.99      0.99      0.99       829\n",
      "                      acute otitis media       1.00      0.98      0.99       850\n",
      "                   acute pulmonary edema       1.00      1.00      1.00       796\n",
      "                    acute rhinosinusitis       0.94      0.79      0.86       820\n",
      "                      allergic sinusitis       1.00      0.95      0.98       789\n",
      "                             anaphylaxis       1.00      1.00      1.00       851\n",
      "                                  anemia       1.00      1.00      1.00       775\n",
      "                     atrial fibrillation       1.00      0.98      0.99       797\n",
      "                               boerhaave       1.00      1.00      1.00       826\n",
      "                          bronchiectasis       1.00      1.00      1.00       787\n",
      "                           bronchiolitis       0.79      0.98      0.87       827\n",
      "                              bronchitis       1.00      0.98      0.99       809\n",
      "bronchospasm / acute asthma exacerbation       1.00      0.97      0.98       799\n",
      "                                  chagas       1.00      1.00      1.00       818\n",
      "                  chronic rhinosinusitis       0.83      0.96      0.89       884\n",
      "                        cluster headache       1.00      1.00      1.00       805\n",
      "                                   croup       0.85      0.96      0.90       776\n",
      "                                   ebola       1.00      1.00      1.00       785\n",
      "                            epiglottitis       1.00      0.99      1.00       787\n",
      "                                    gerd       1.00      1.00      1.00       772\n",
      "                 guillain-barré syndrome       1.00      0.97      0.98       837\n",
      "                 hiv (initial infection)       1.00      1.00      1.00       829\n",
      "                               influenza       1.00      1.00      1.00       818\n",
      "                         inguinal hernia       1.00      0.99      1.00       847\n",
      "                             larygospasm       1.00      0.95      0.98       832\n",
      "                         localized edema       1.00      1.00      1.00       789\n",
      "                       myasthenia gravis       1.00      0.98      0.99       814\n",
      "                             myocarditis       1.00      1.00      1.00       831\n",
      "                     pancreatic neoplasm       1.00      1.00      1.00       803\n",
      "                            panic attack       1.00      1.00      1.00       841\n",
      "                            pericarditis       1.00      1.00      1.00       755\n",
      "                               pneumonia       1.00      1.00      1.00       820\n",
      "                 possible nstemi / stemi       1.00      1.00      1.00       828\n",
      "                                    psvt       1.00      1.00      1.00       860\n",
      "                      pulmonary embolism       1.00      1.00      1.00       817\n",
      "                      pulmonary neoplasm       1.00      1.00      1.00       826\n",
      "                             sarcoidosis       0.99      1.00      1.00       819\n",
      "                scombroid food poisoning       1.00      1.00      1.00       819\n",
      "                                     sle       1.00      1.00      1.00       804\n",
      "                spontaneous pneumothorax       1.00      1.00      1.00       793\n",
      "                spontaneous rib fracture       1.00      1.00      1.00       808\n",
      "                           stable angina       0.87      1.00      0.93       796\n",
      "                            tuberculosis       1.00      0.96      0.98       777\n",
      "                         unstable angina       1.00      0.87      0.93       863\n",
      "                                    urti       1.00      0.99      1.00       789\n",
      "                       viral pharyngitis       1.00      0.99      0.99       760\n",
      "                          whooping cough       1.00      0.97      0.99       789\n",
      "\n",
      "                                accuracy                           0.98     39730\n",
      "                               macro avg       0.99      0.98      0.98     39730\n",
      "                            weighted avg       0.98      0.98      0.98     39730\n",
      "\n",
      "F1-Score: 0.9831037468396\n"
     ]
    }
   ],
   "source": [
    "# Avaliar o desempenho do modelo\n",
    "accuracy = accuracy_score(y_test, y_pred)\n",
    "classification_report_result = classification_report(y_test, y_pred)\n",
    "matriz_confusao = confusion_matrix(y_test, y_pred, labels=regressao_logistica.classes_)\n",
    "f1 = f1_score(y_test, y_pred, average='macro')\n",
    "\n",
    "# Calcular sensibilidade (recall) e especificidade para cada classe\n",
    "sensibilidade = np.diag(matriz_confusao) / np.sum(matriz_confusao, axis=1)\n",
    "\n",
    "# Calcular sensibilidade e especificidade médias (macro)\n",
    "sensibilidade_media = np.mean(sensibilidade)\n",
    "\n",
    "# Exibir métricas de desempenho\n",
    "print(f'Acurácia: {accuracy}')\n",
    "print('Relatório de Classificação:\\n', classification_report_result)\n",
    "print(f\"F1-Score: {f1}\")\n",
    "print(f'Sensibilidade (Recall) Média: {sensibilidade_media}')"
   ]
  }
 ],
 "metadata": {
  "kernelspec": {
   "display_name": "Python 3",
   "language": "python",
   "name": "python3"
  },
  "language_info": {
   "codemirror_mode": {
    "name": "ipython",
    "version": 3
   },
   "file_extension": ".py",
   "mimetype": "text/x-python",
   "name": "python",
   "nbconvert_exporter": "python",
   "pygments_lexer": "ipython3",
   "version": "3.10.13"
  }
 },
 "nbformat": 4,
 "nbformat_minor": 2
}
